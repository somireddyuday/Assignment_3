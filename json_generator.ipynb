{
 "cells": [
  {
   "cell_type": "code",
   "execution_count": 1,
   "id": "100299f5",
   "metadata": {},
   "outputs": [],
   "source": [
    "import pandas as pd"
   ]
  },
  {
   "cell_type": "code",
   "execution_count": 3,
   "id": "31b84e6e",
   "metadata": {},
   "outputs": [],
   "source": [
    "df = pd.read_csv(r\"C:\\Users\\somir\\Desktop\\ADM_assignment_3\\Newfolder_1\\input.csv\")"
   ]
  },
  {
   "cell_type": "code",
   "execution_count": 4,
   "id": "02ddfc9e",
   "metadata": {},
   "outputs": [
    {
     "data": {
      "text/html": [
       "<div>\n",
       "<style scoped>\n",
       "    .dataframe tbody tr th:only-of-type {\n",
       "        vertical-align: middle;\n",
       "    }\n",
       "\n",
       "    .dataframe tbody tr th {\n",
       "        vertical-align: top;\n",
       "    }\n",
       "\n",
       "    .dataframe thead th {\n",
       "        text-align: right;\n",
       "    }\n",
       "</style>\n",
       "<table border=\"1\" class=\"dataframe\">\n",
       "  <thead>\n",
       "    <tr style=\"text-align: right;\">\n",
       "      <th></th>\n",
       "      <th>ImageName</th>\n",
       "      <th>Label</th>\n",
       "    </tr>\n",
       "  </thead>\n",
       "  <tbody>\n",
       "    <tr>\n",
       "      <th>0</th>\n",
       "      <td>MEN_Denim_id_0000008001_1_front.jpg</td>\n",
       "      <td>MEN_Denim_front</td>\n",
       "    </tr>\n",
       "    <tr>\n",
       "      <th>1</th>\n",
       "      <td>MEN_Denim_id_0000008001_2_side.jpg</td>\n",
       "      <td>MEN_Denim_side</td>\n",
       "    </tr>\n",
       "    <tr>\n",
       "      <th>2</th>\n",
       "      <td>MEN_Denim_id_0000008001_3_back.jpg</td>\n",
       "      <td>MEN_Denim_back</td>\n",
       "    </tr>\n",
       "    <tr>\n",
       "      <th>3</th>\n",
       "      <td>MEN_Denim_id_0000008001_7_additional.jpg</td>\n",
       "      <td>MEN_Denim_additional</td>\n",
       "    </tr>\n",
       "    <tr>\n",
       "      <th>4</th>\n",
       "      <td>MEN_Denim_id_0000008901_1_front.jpg</td>\n",
       "      <td>MEN_Denim_front</td>\n",
       "    </tr>\n",
       "  </tbody>\n",
       "</table>\n",
       "</div>"
      ],
      "text/plain": [
       "                                  ImageName                 Label\n",
       "0       MEN_Denim_id_0000008001_1_front.jpg       MEN_Denim_front\n",
       "1        MEN_Denim_id_0000008001_2_side.jpg        MEN_Denim_side\n",
       "2        MEN_Denim_id_0000008001_3_back.jpg        MEN_Denim_back\n",
       "3  MEN_Denim_id_0000008001_7_additional.jpg  MEN_Denim_additional\n",
       "4       MEN_Denim_id_0000008901_1_front.jpg       MEN_Denim_front"
      ]
     },
     "execution_count": 4,
     "metadata": {},
     "output_type": "execute_result"
    }
   ],
   "source": [
    "df.head()"
   ]
  },
  {
   "cell_type": "code",
   "execution_count": 5,
   "id": "296f9dd5",
   "metadata": {},
   "outputs": [],
   "source": [
    "out_dict=[]"
   ]
  },
  {
   "cell_type": "code",
   "execution_count": 11,
   "id": "b317a438",
   "metadata": {},
   "outputs": [],
   "source": [
    "map_dict = {'MEN_Denim_front':1, 'MEN_Denim_side':2, 'MEN_Denim_back':3,\n",
    "       'MEN_Denim_additional':4, 'MEN_Jackets_Vests_front':5,\n",
    "       'MEN_Jackets_Vests_side':6, 'MEN_Jackets_Vests_additional':7,\n",
    "       'MEN_Jackets_Vests_back':8, 'MEN_Pants_front':9, 'MEN_Pants_back':10,\n",
    "       'MEN_Pants_additional':11, 'MEN_Pants_side':12, 'MEN_Shirts_Polos_front':13,\n",
    "       'MEN_Shirts_Polos_side':14, 'MEN_Shirts_Polos_additional':15,\n",
    "       'MEN_Shirts_Polos_back':16, 'MEN_Shorts_front':17, 'MEN_Shorts_side':18,\n",
    "       'MEN_Shorts_back':19, 'MEN_Shorts_additional':20, 'MEN_Suiting_front':21,\n",
    "       'MEN_Suiting_side':22, 'MEN_Suiting_back':23, 'MEN_Suiting_additional':24,\n",
    "       'MEN_Sweaters_front':25, 'MEN_Sweaters_side':26, 'MEN_Sweaters_back':27,\n",
    "       'MEN_Sweaters_additional':28, 'MEN_Sweatshirts_Hoodies_front':29,\n",
    "       'MEN_Sweatshirts_Hoodies_side':30, 'MEN_Sweatshirts_Hoodies_back':31,\n",
    "       'MEN_Sweatshirts_Hoodies_additional':32, 'MEN_Tees_Tanks_front':33,\n",
    "       'MEN_Tees_Tanks_side':34, 'MEN_Tees_Tanks_back':35,\n",
    "       'MEN_Tees_Tanks_additional':36, 'WOMEN_Blouses_Shirts_front':37,\n",
    "       'WOMEN_Blouses_Shirts_side':38, 'WOMEN_Blouses_Shirts_back':39,\n",
    "       'WOMEN_Blouses_Shirts_additional':40, 'WOMEN_Cardigans_front':41,\n",
    "       'WOMEN_Cardigans_side':42, 'WOMEN_Cardigans_additional':43,\n",
    "       'WOMEN_Cardigans_back':44, 'WOMEN_Denim_front':45, 'WOMEN_Denim_side':46,\n",
    "       'WOMEN_Denim_back':47, 'WOMEN_Denim_additional':48,\n",
    "       'WOMEN_Dresses_front':49, 'WOMEN_Dresses_side':50,\n",
    "       'WOMEN_Dresses_additional':51, 'WOMEN_Dresses_back':52,\n",
    "       'WOMEN_Graphic_Tees_front':53, 'WOMEN_Graphic_Tees_side':54,\n",
    "       'WOMEN_Graphic_Tees_additional':55, 'WOMEN_Graphic_Tees_back':56,\n",
    "       'WOMEN_Jackets_Coats_front':57, 'WOMEN_Jackets_Coats_side':58,\n",
    "       'WOMEN_Jackets_Coats_back':59, 'WOMEN_Jackets_Coats_additional':60,\n",
    "       'WOMEN_Leggings_front':61, 'WOMEN_Leggings_side':62,\n",
    "       'WOMEN_Leggings_back':63, 'WOMEN_Leggings_additional':64,\n",
    "       'WOMEN_Pants_front':65, 'WOMEN_Pants_side':66, 'WOMEN_Pants_back':67,\n",
    "       'WOMEN_Pants_additional':68, 'WOMEN_Rompers_Jumpsuits_front':69,\n",
    "       'WOMEN_Rompers_Jumpsuits_side':70, 'WOMEN_Rompers_Jumpsuits_back':71,\n",
    "       'WOMEN_Rompers_Jumpsuits_additional':72, 'WOMEN_Shorts_front':73,\n",
    "       'WOMEN_Shorts_side':74, 'WOMEN_Shorts_back':75,\n",
    "       'WOMEN_Shorts_additional':76, 'WOMEN_Skirts_front':77,\n",
    "       'WOMEN_Skirts_side':78, 'WOMEN_Skirts_back':79,\n",
    "       'WOMEN_Skirts_additional':80, 'WOMEN_Sweaters_front':81,\n",
    "       'WOMEN_Sweaters_side':82, 'WOMEN_Sweaters_back':83,\n",
    "       'WOMEN_Sweaters_additional':84, 'WOMEN_Sweatshirts_Hoodies_front':85,\n",
    "       'WOMEN_Sweatshirts_Hoodies_side':86, 'WOMEN_Sweatshirts_Hoodies_back':87,\n",
    "       'WOMEN_Sweatshirts_Hoodies_additional':88, 'WOMEN_Tees_Tanks_front':89,\n",
    "       'WOMEN_Tees_Tanks_side':90, 'WOMEN_Tees_Tanks_back':91,\n",
    "       'WOMEN_Tees_Tanks_additional':92}"
   ]
  },
  {
   "cell_type": "code",
   "execution_count": 12,
   "id": "3fa69279",
   "metadata": {},
   "outputs": [],
   "source": [
    "for i,row in df.iterrows():\n",
    "    filename = row[\"ImageName\"]\n",
    "    label = row[\"Label\"]\n",
    "    idv = map_dict[label]\n",
    "    temp = {\"imageName\":filename,\"productID\":idv}\n",
    "    out_dict.append(temp)"
   ]
  },
  {
   "cell_type": "code",
   "execution_count": 13,
   "id": "deed72f1",
   "metadata": {},
   "outputs": [],
   "source": [
    "import json"
   ]
  },
  {
   "cell_type": "code",
   "execution_count": 14,
   "id": "ba390efc",
   "metadata": {},
   "outputs": [
    {
     "data": {
      "text/plain": [
       "45359"
      ]
     },
     "execution_count": 14,
     "metadata": {},
     "output_type": "execute_result"
    }
   ],
   "source": [
    "len(out_dict)"
   ]
  },
  {
   "cell_type": "code",
   "execution_count": 19,
   "id": "7fc28a96",
   "metadata": {},
   "outputs": [],
   "source": [
    "with open(r\"C:\\Users\\somir\\Desktop\\ADM_assignment_3\\Newfolder_1\\input_file.json\", 'w') as fout:\n",
    "    json.dump(out_dict , fout)"
   ]
  },
  {
   "cell_type": "code",
   "execution_count": null,
   "id": "6f31cef9",
   "metadata": {},
   "outputs": [],
   "source": []
  }
 ],
 "metadata": {
  "kernelspec": {
   "display_name": "Python 3",
   "language": "python",
   "name": "python3"
  },
  "language_info": {
   "codemirror_mode": {
    "name": "ipython",
    "version": 3
   },
   "file_extension": ".py",
   "mimetype": "text/x-python",
   "name": "python",
   "nbconvert_exporter": "python",
   "pygments_lexer": "ipython3",
   "version": "3.8.8"
  }
 },
 "nbformat": 4,
 "nbformat_minor": 5
}
